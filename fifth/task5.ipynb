{
 "cells": [
  {
   "cell_type": "markdown",
   "id": "4a2ba80c",
   "metadata": {},
   "source": [
    "# Task 5.\n",
    "\n"
   ]
  },
  {
   "cell_type": "markdown",
   "id": "bc19548e",
   "metadata": {},
   "source": [
    "# Цели работы:\n",
    "\n",
    "1. Научиться применять базовый функционал библиотеки Keras.\n",
    "2. Научиться моделировать сверточные нейронные сети для распознавания объектов на изображении.\n",
    "3. Ознакомиться с основными методами в работе со сверточными нейронными сетями.\n",
    "4. Ознакомиться с популярными архитектурными решениями для задач классификации изображений.\n",
    "\n",
    "## Задание.\n",
    "\n",
    "1. Импортировать набор данных Cifar10.\n",
    "2. Смоделировать сверточную нейронную сеть со значением метрики accuracy $\\geq$ 70."
   ]
  }
 ],
 "metadata": {
  "kernelspec": {
   "display_name": "Python 3 (ipykernel)",
   "language": "python",
   "name": "python3"
  },
  "language_info": {
   "codemirror_mode": {
    "name": "ipython",
    "version": 3
   },
   "file_extension": ".py",
   "mimetype": "text/x-python",
   "name": "python",
   "nbconvert_exporter": "python",
   "pygments_lexer": "ipython3",
   "version": "3.9.12"
  }
 },
 "nbformat": 4,
 "nbformat_minor": 5
}
